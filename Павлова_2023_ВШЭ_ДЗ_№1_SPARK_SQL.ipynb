{
  "nbformat": 4,
  "nbformat_minor": 0,
  "metadata": {
    "colab": {
      "provenance": []
    },
    "kernelspec": {
      "name": "python3",
      "display_name": "Python 3"
    },
    "language_info": {
      "name": "python"
    }
  },
  "cells": [
    {
      "cell_type": "markdown",
      "source": [
        "# Домашнее задание № 1 (Apache Spark SQL)\n",
        "\n",
        "**Цель**: Решить 5 задач на SQL с использованием базовых таблиц.\n",
        "\n",
        "**Инструкции**:\n",
        "0. Прочитать условия ДЗ\n",
        "1. Выполнить задание на SQL;\n",
        "2. Ознакомиться с документацией по SQL: [Ссылка](https://spark.apache.org/docs/latest/sql-ref.html);\n",
        "3. Создать ноутбук с решениями задач (создайте копию на основе этого шаблона);\n",
        "4. Каждый запрос должен содержать обязательные комментарии с объяснением логического смысла решения;\n",
        "5. Скачать ноутбук в формате .ipynb и отправить на адрес электронной почты: ilya+hse@aniskovets.com.\n",
        "\n",
        "**Оценка и дедлайн**:\n",
        "- Максимальная оценка - 5 баллов;\n",
        "- Дедлайн: 24.05.2023 23:59;\n",
        "- Оценки будут опубликованы после сдачи **всех двух** домашних заданий.\n",
        "\n",
        "**Таблицы**:\n",
        "Для выполнения задания предполагается использование следующих таблиц, загруженных в систему в формате CSV с типами полей STRING:\n",
        "\n",
        "- title_basics_csv\n",
        "- title_principals_csv\n",
        "- title_crew_csv\n",
        "- title_episode_csv\n",
        "- title_ratings_csv\n",
        "- title_akas_csv\n",
        "- name_basics_csv\n",
        "\n",
        "**Преобразование типов**:\n",
        "Для преобразования STRING в другой тип используйте конструкцию: \n",
        "```sql\n",
        "CAST (column_name AS TYPE) AS column_name\n",
        "```\n",
        "\n",
        "**Пример**\n",
        "```sql\n",
        "CREATE TABLE test_table USING PARQUET AS \n",
        "  SELECT \n",
        "    CAST(averageRating AS decimal(2,1))  AS averageRating \n",
        "  FROM test_table_csv \n",
        "```\n",
        "\n",
        "**Все подготовительные этапы по преобразованию типов нужно делать в разделе Initialization. После чего, рекомендуется использовать в запросах таблицы в формате PARQUET**\n",
        "\n",
        "Перед этим не мешает проверить, что значения влезают в размерности этого типа\n",
        "Список типов SQL: https://spark.apache.org/docs/latest/sql-ref-datatypes.html \n",
        "\n",
        "Домашнее задание необходимо сделать в виде ноутбука. Ноутбук должен запускаться без ошибок.\n",
        "\n",
        "Во всех задачах ответом должно быть только ОДНО значение (число или строка).\n",
        "\n",
        "Неправильный ответ - 0 баллов за задачу.\n",
        "Правильный ответ на все тесты 1 балл за задачу, иначе пропорционально количеству пройденных тестов (количество тестов и какие именно заранее неизвестны).\n",
        "\n",
        "**ВНИМАНИЕ! К каждому запросу необходимо писать комментарии. Комментарии должны обьяснять логический смысл решения. Отсутствие комментария к решению задачи штраф - оценка за задачу = оценка / 2!**\n",
        "\n",
        "Всего 5 задач и 5 баллов\n",
        "\n",
        "**В режиме проверки SQL запросы будут запускаться с любыми параметрами, отличными от тех, что вы выбрали.**\n",
        "\n",
        "Скрипты не должны зависеть от выбранного вами параметра, а также от регистра строки. Все параметры должны быть изменяемыми (смотрите, пример в Вопросе № 0)\n",
        "\n",
        "**Тестирование будет проводится с любым значением параметров, в том числе с отсутвующим в датасете, запрос должен выводить правильный результат!**\n",
        "\n",
        "SQL запрос в ответе всегда должен быть один и параметризирован. Если необходимо пользуйтесь конструкцией WITH name AS () -  пример ниже\n",
        "\n",
        "После завершения работы нажимайте в меню File/Download/Download ipnb, скачивайте файл и присылайте почтой на ilya+hse@aniskovets.com\n",
        "\n",
        "Если заметили опечатки или появились вопросы пишите в телеграм: @aigmx\n",
        "\n"
      ],
      "metadata": {
        "id": "RC9u5jdnHx50"
      }
    },
    {
      "cell_type": "code",
      "source": [
        "!pip install pyspark===3.4.0"
      ],
      "metadata": {
        "colab": {
          "base_uri": "https://localhost:8080/"
        },
        "id": "aW6H3k8n0tYc",
        "outputId": "99eb77b8-64a0-4582-b17f-64832ca95737"
      },
      "execution_count": 1,
      "outputs": [
        {
          "output_type": "stream",
          "name": "stdout",
          "text": [
            "Looking in indexes: https://pypi.org/simple, https://us-python.pkg.dev/colab-wheels/public/simple/\n",
            "Collecting pyspark===3.4.0\n",
            "  Downloading pyspark-3.4.0.tar.gz (310.8 MB)\n",
            "\u001b[2K     \u001b[90m━━━━━━━━━━━━━━━━━━━━━━━━━━━━━━━━━━━━━━━\u001b[0m \u001b[32m310.8/310.8 MB\u001b[0m \u001b[31m4.1 MB/s\u001b[0m eta \u001b[36m0:00:00\u001b[0m\n",
            "\u001b[?25h  Preparing metadata (setup.py) ... \u001b[?25l\u001b[?25hdone\n",
            "Requirement already satisfied: py4j==0.10.9.7 in /usr/local/lib/python3.10/dist-packages (from pyspark===3.4.0) (0.10.9.7)\n",
            "Building wheels for collected packages: pyspark\n",
            "  Building wheel for pyspark (setup.py) ... \u001b[?25l\u001b[?25hdone\n",
            "  Created wheel for pyspark: filename=pyspark-3.4.0-py2.py3-none-any.whl size=311317130 sha256=487e71a03219af26db72d975f7b04daebbc58bdef4405735c70499447268d941\n",
            "  Stored in directory: /root/.cache/pip/wheels/7b/1b/4b/3363a1d04368e7ff0d408e57ff57966fcdf00583774e761327\n",
            "Successfully built pyspark\n",
            "Installing collected packages: pyspark\n",
            "Successfully installed pyspark-3.4.0\n"
          ]
        }
      ]
    },
    {
      "cell_type": "code",
      "source": [
        "!curl -O https://mars.ru77.ru/data/title.basics.tsv.gz\n",
        "!curl -O https://mars.ru77.ru/data/title.crew.tsv.gz\n",
        "!curl -O https://mars.ru77.ru/data/title.episode.tsv.gz\n",
        "!curl -O https://mars.ru77.ru/data/title.principals.tsv.gz\n",
        "!curl -O https://mars.ru77.ru/data/title.ratings.tsv.gz\n",
        "!curl -O https://mars.ru77.ru/data/title.akas.tsv.gz\n",
        "!curl -O https://mars.ru77.ru/data/name.basics.tsv.gz"
      ],
      "metadata": {
        "id": "pp42uQGB3Nez",
        "colab": {
          "base_uri": "https://localhost:8080/"
        },
        "outputId": "af4afe89-9b7f-4cfd-93b9-8eb014e5c17a"
      },
      "execution_count": 2,
      "outputs": [
        {
          "output_type": "stream",
          "name": "stdout",
          "text": [
            "  % Total    % Received % Xferd  Average Speed   Time    Time     Time  Current\n",
            "                                 Dload  Upload   Total   Spent    Left  Speed\n",
            "100  132M  100  132M    0     0  10.0M      0  0:00:13  0:00:13 --:--:-- 15.3M\n",
            "  % Total    % Received % Xferd  Average Speed   Time    Time     Time  Current\n",
            "                                 Dload  Upload   Total   Spent    Left  Speed\n",
            "100 51.7M  100 51.7M    0     0  7270k      0  0:00:07  0:00:07 --:--:-- 12.1M\n",
            "  % Total    % Received % Xferd  Average Speed   Time    Time     Time  Current\n",
            "                                 Dload  Upload   Total   Spent    Left  Speed\n",
            "100 29.6M  100 29.6M    0     0  4755k      0  0:00:06  0:00:06 --:--:-- 6692k\n",
            "  % Total    % Received % Xferd  Average Speed   Time    Time     Time  Current\n",
            "                                 Dload  Upload   Total   Spent    Left  Speed\n",
            "100  342M  100  342M    0     0  10.1M      0  0:00:33  0:00:33 --:--:-- 14.7M\n",
            "  % Total    % Received % Xferd  Average Speed   Time    Time     Time  Current\n",
            "                                 Dload  Upload   Total   Spent    Left  Speed\n",
            "100 5526k  100 5526k    0     0  1477k      0  0:00:03  0:00:03 --:--:-- 1476k\n",
            "  % Total    % Received % Xferd  Average Speed   Time    Time     Time  Current\n",
            "                                 Dload  Upload   Total   Spent    Left  Speed\n",
            "100  214M  100  214M    0     0  11.8M      0  0:00:18  0:00:18 --:--:-- 15.2M\n",
            "  % Total    % Received % Xferd  Average Speed   Time    Time     Time  Current\n",
            "                                 Dload  Upload   Total   Spent    Left  Speed\n",
            "100  202M  100  202M    0     0  11.7M      0  0:00:17  0:00:17 --:--:-- 15.2M\n"
          ]
        }
      ]
    },
    {
      "cell_type": "code",
      "source": [
        "from pyspark.sql import SparkSession, SQLContext\n",
        "from pyspark import SparkConf, SparkContext\n",
        "\n",
        "\n",
        "spark = SparkSession.builder.master(\"local[2]\").config(\"spark.driver.memory\", \"8g\").appName(\"vse\").enableHiveSupport().getOrCreate()\n",
        "sql = spark.sql"
      ],
      "metadata": {
        "id": "ozFaxBjr3Lk8"
      },
      "execution_count": 3,
      "outputs": []
    },
    {
      "cell_type": "code",
      "source": [
        "title_basics_csv = spark.read.csv(\"title.basics.tsv.gz\", sep='\\\\t', nullValue='\\\\N', header=True, quote=\"\", escape=\"\")\n",
        "title_basics_csv.createOrReplaceTempView(\"title_basics_csv\")\n",
        "\n",
        "\n",
        "title_principals_csv = spark.read.csv(\"title.principals.tsv.gz\", sep='\\\\t', nullValue='\\\\N', header=True, quote=\"\", escape=\"\")\n",
        "title_principals_csv.createOrReplaceTempView(\"title_principals_csv\")\n",
        "\n",
        "\n",
        "title_crew_csv = spark.read.csv(\"title.crew.tsv.gz\", sep='\\\\t', nullValue='\\\\N', header=True, quote=\"\", escape=\"\")\n",
        "title_crew_csv.createOrReplaceTempView(\"title_crew_csv\")\n",
        "\n",
        "\n",
        "title_episode_csv = spark.read.csv(\"title.episode.tsv.gz\", sep='\\\\t', nullValue='\\\\N', header=True, quote=\"\", escape=\"\")\n",
        "title_episode_csv.createOrReplaceTempView(\"title_episode_csv\")\n",
        "\n",
        "\n",
        "title_ratings_csv = spark.read.csv(\"title.ratings.tsv.gz\", sep='\\\\t', nullValue='\\\\N', header=True, quote=\"\", escape=\"\")\n",
        "title_ratings_csv.createOrReplaceTempView(\"title_ratings_csv\")\n",
        "\n",
        "\n",
        "title_akas_csv = spark.read.csv(\"title.akas.tsv.gz\", sep='\\\\t', nullValue='\\\\N', header=True, quote=\"\", escape=\"\")\n",
        "title_akas_csv.createOrReplaceTempView(\"title_akas_csv\")\n",
        "\n",
        "\n",
        "name_basics_csv = spark.read.csv(\"name.basics.tsv.gz\", sep='\\\\t', nullValue='\\\\N', header=True, quote=\"\", escape=\"\")\n",
        "name_basics_csv.createOrReplaceTempView(\"name_basics_csv\")"
      ],
      "metadata": {
        "id": "X1fn6BV_3KRJ"
      },
      "execution_count": 4,
      "outputs": []
    },
    {
      "cell_type": "code",
      "source": [
        "# Initialization\n",
        "_ = sql(\"\"\"DROP TABLE IF EXISTS title_basics\"\"\").collect()\n",
        "_ = sql(\"\"\"CREATE TABLE title_basics STORED AS PARQUET SELECT * FROM title_basics_csv\"\"\").collect()\n",
        "\n",
        "_ = sql(\"\"\"DROP TABLE IF EXISTS title_principals\"\"\").collect()\n",
        "_ = sql(\"\"\"CREATE TABLE title_principals STORED AS PARQUET SELECT * FROM title_principals_csv\"\"\").collect()\n",
        "\n",
        "_ = sql(\"\"\"DROP TABLE IF EXISTS title_crew\"\"\").collect()\n",
        "_ = sql(\"\"\"CREATE TABLE title_crew STORED AS PARQUET SELECT * FROM title_crew_csv\"\"\").collect()\n",
        "\n",
        "_ = sql(\"\"\"DROP TABLE IF EXISTS title_episode\"\"\").collect()\n",
        "_ = sql(\"\"\"CREATE TABLE title_episode STORED AS PARQUET SELECT * FROM title_episode_csv\"\"\").collect()\n",
        "\n",
        "_ = sql(\"\"\"DROP TABLE IF EXISTS title_ratings\"\"\").collect()\n",
        "_ = sql(\"\"\"CREATE TABLE title_ratings STORED AS PARQUET SELECT * FROM title_ratings_csv\"\"\").collect()\n",
        "\n",
        "_ = sql(\"\"\"DROP TABLE IF EXISTS title_akas\"\"\").collect()\n",
        "_ = sql(\"\"\"CREATE TABLE title_akas STORED AS PARQUET SELECT * FROM title_akas_csv\"\"\").collect()\n",
        "\n",
        "_ = sql(\"\"\"DROP TABLE IF EXISTS name_basics\"\"\").collect()\n",
        "_ = sql(\"\"\"CREATE TABLE name_basics STORED AS PARQUET SELECT * FROM name_basics_csv\"\"\").collect()"
      ],
      "metadata": {
        "id": "U1Oy8O6Fmjrn"
      },
      "execution_count": 5,
      "outputs": []
    },
    {
      "cell_type": "code",
      "source": [
        "sql(\"DESCRIBE FORMATTED title_basics\").show(50, truncate=False)\n",
        "sql(\"DESCRIBE FORMATTED title_principals\").show(50, truncate=False)\n",
        "sql(\"DESCRIBE FORMATTED title_crew\").show(50, truncate=False) \n",
        "sql(\"DESCRIBE FORMATTED title_episode\").show(50, truncate=False)\n",
        "sql(\"DESCRIBE FORMATTED title_ratings\").show(50, truncate=False)\n",
        "sql(\"DESCRIBE FORMATTED title_akas\").show(50, truncate=False)\n",
        "sql(\"DESCRIBE FORMATTED name_basics\").show(50, truncate=False)"
      ],
      "metadata": {
        "id": "lX4RUhILnx7m",
        "colab": {
          "base_uri": "https://localhost:8080/"
        },
        "outputId": "6c38cb5a-562c-4389-ba24-690b82999055"
      },
      "execution_count": 6,
      "outputs": [
        {
          "output_type": "stream",
          "name": "stdout",
          "text": [
            "+----------------------------+--------------------------------------------------------------+-------+\n",
            "|col_name                    |data_type                                                     |comment|\n",
            "+----------------------------+--------------------------------------------------------------+-------+\n",
            "|tconst                      |string                                                        |null   |\n",
            "|titleType                   |string                                                        |null   |\n",
            "|primaryTitle                |string                                                        |null   |\n",
            "|originalTitle               |string                                                        |null   |\n",
            "|isAdult                     |string                                                        |null   |\n",
            "|startYear                   |string                                                        |null   |\n",
            "|endYear                     |string                                                        |null   |\n",
            "|runtimeMinutes              |string                                                        |null   |\n",
            "|genres                      |string                                                        |null   |\n",
            "|                            |                                                              |       |\n",
            "|# Detailed Table Information|                                                              |       |\n",
            "|Catalog                     |spark_catalog                                                 |       |\n",
            "|Database                    |default                                                       |       |\n",
            "|Table                       |title_basics                                                  |       |\n",
            "|Owner                       |root                                                          |       |\n",
            "|Created Time                |Wed May 24 08:38:15 UTC 2023                                  |       |\n",
            "|Last Access                 |UNKNOWN                                                       |       |\n",
            "|Created By                  |Spark 3.4.0                                                   |       |\n",
            "|Type                        |MANAGED                                                       |       |\n",
            "|Provider                    |hive                                                          |       |\n",
            "|Table Properties            |[transient_lastDdlTime=1684917495]                            |       |\n",
            "|Location                    |file:/content/spark-warehouse/title_basics                    |       |\n",
            "|Serde Library               |org.apache.hadoop.hive.ql.io.parquet.serde.ParquetHiveSerDe   |       |\n",
            "|InputFormat                 |org.apache.hadoop.hive.ql.io.parquet.MapredParquetInputFormat |       |\n",
            "|OutputFormat                |org.apache.hadoop.hive.ql.io.parquet.MapredParquetOutputFormat|       |\n",
            "|Storage Properties          |[serialization.format=1]                                      |       |\n",
            "|Partition Provider          |Catalog                                                       |       |\n",
            "+----------------------------+--------------------------------------------------------------+-------+\n",
            "\n",
            "+----------------------------+--------------------------------------------------------------+-------+\n",
            "|col_name                    |data_type                                                     |comment|\n",
            "+----------------------------+--------------------------------------------------------------+-------+\n",
            "|tconst                      |string                                                        |null   |\n",
            "|ordering                    |string                                                        |null   |\n",
            "|nconst                      |string                                                        |null   |\n",
            "|category                    |string                                                        |null   |\n",
            "|job                         |string                                                        |null   |\n",
            "|characters                  |string                                                        |null   |\n",
            "|                            |                                                              |       |\n",
            "|# Detailed Table Information|                                                              |       |\n",
            "|Catalog                     |spark_catalog                                                 |       |\n",
            "|Database                    |default                                                       |       |\n",
            "|Table                       |title_principals                                              |       |\n",
            "|Owner                       |root                                                          |       |\n",
            "|Created Time                |Wed May 24 08:38:46 UTC 2023                                  |       |\n",
            "|Last Access                 |UNKNOWN                                                       |       |\n",
            "|Created By                  |Spark 3.4.0                                                   |       |\n",
            "|Type                        |MANAGED                                                       |       |\n",
            "|Provider                    |hive                                                          |       |\n",
            "|Table Properties            |[transient_lastDdlTime=1684917526]                            |       |\n",
            "|Location                    |file:/content/spark-warehouse/title_principals                |       |\n",
            "|Serde Library               |org.apache.hadoop.hive.ql.io.parquet.serde.ParquetHiveSerDe   |       |\n",
            "|InputFormat                 |org.apache.hadoop.hive.ql.io.parquet.MapredParquetInputFormat |       |\n",
            "|OutputFormat                |org.apache.hadoop.hive.ql.io.parquet.MapredParquetOutputFormat|       |\n",
            "|Storage Properties          |[serialization.format=1]                                      |       |\n",
            "|Partition Provider          |Catalog                                                       |       |\n",
            "+----------------------------+--------------------------------------------------------------+-------+\n",
            "\n",
            "+----------------------------+--------------------------------------------------------------+-------+\n",
            "|col_name                    |data_type                                                     |comment|\n",
            "+----------------------------+--------------------------------------------------------------+-------+\n",
            "|tconst                      |string                                                        |null   |\n",
            "|directors                   |string                                                        |null   |\n",
            "|writers                     |string                                                        |null   |\n",
            "|                            |                                                              |       |\n",
            "|# Detailed Table Information|                                                              |       |\n",
            "|Catalog                     |spark_catalog                                                 |       |\n",
            "|Database                    |default                                                       |       |\n",
            "|Table                       |title_crew                                                    |       |\n",
            "|Owner                       |root                                                          |       |\n",
            "|Created Time                |Wed May 24 08:40:40 UTC 2023                                  |       |\n",
            "|Last Access                 |UNKNOWN                                                       |       |\n",
            "|Created By                  |Spark 3.4.0                                                   |       |\n",
            "|Type                        |MANAGED                                                       |       |\n",
            "|Provider                    |hive                                                          |       |\n",
            "|Table Properties            |[transient_lastDdlTime=1684917640]                            |       |\n",
            "|Location                    |file:/content/spark-warehouse/title_crew                      |       |\n",
            "|Serde Library               |org.apache.hadoop.hive.ql.io.parquet.serde.ParquetHiveSerDe   |       |\n",
            "|InputFormat                 |org.apache.hadoop.hive.ql.io.parquet.MapredParquetInputFormat |       |\n",
            "|OutputFormat                |org.apache.hadoop.hive.ql.io.parquet.MapredParquetOutputFormat|       |\n",
            "|Storage Properties          |[serialization.format=1]                                      |       |\n",
            "|Partition Provider          |Catalog                                                       |       |\n",
            "+----------------------------+--------------------------------------------------------------+-------+\n",
            "\n",
            "+----------------------------+--------------------------------------------------------------+-------+\n",
            "|col_name                    |data_type                                                     |comment|\n",
            "+----------------------------+--------------------------------------------------------------+-------+\n",
            "|tconst                      |string                                                        |null   |\n",
            "|parentTconst                |string                                                        |null   |\n",
            "|seasonNumber                |string                                                        |null   |\n",
            "|episodeNumber               |string                                                        |null   |\n",
            "|                            |                                                              |       |\n",
            "|# Detailed Table Information|                                                              |       |\n",
            "|Catalog                     |spark_catalog                                                 |       |\n",
            "|Database                    |default                                                       |       |\n",
            "|Table                       |title_episode                                                 |       |\n",
            "|Owner                       |root                                                          |       |\n",
            "|Created Time                |Wed May 24 08:40:55 UTC 2023                                  |       |\n",
            "|Last Access                 |UNKNOWN                                                       |       |\n",
            "|Created By                  |Spark 3.4.0                                                   |       |\n",
            "|Type                        |MANAGED                                                       |       |\n",
            "|Provider                    |hive                                                          |       |\n",
            "|Table Properties            |[transient_lastDdlTime=1684917655]                            |       |\n",
            "|Location                    |file:/content/spark-warehouse/title_episode                   |       |\n",
            "|Serde Library               |org.apache.hadoop.hive.ql.io.parquet.serde.ParquetHiveSerDe   |       |\n",
            "|InputFormat                 |org.apache.hadoop.hive.ql.io.parquet.MapredParquetInputFormat |       |\n",
            "|OutputFormat                |org.apache.hadoop.hive.ql.io.parquet.MapredParquetOutputFormat|       |\n",
            "|Storage Properties          |[serialization.format=1]                                      |       |\n",
            "|Partition Provider          |Catalog                                                       |       |\n",
            "+----------------------------+--------------------------------------------------------------+-------+\n",
            "\n",
            "+----------------------------+--------------------------------------------------------------+-------+\n",
            "|col_name                    |data_type                                                     |comment|\n",
            "+----------------------------+--------------------------------------------------------------+-------+\n",
            "|tconst                      |string                                                        |null   |\n",
            "|averageRating               |string                                                        |null   |\n",
            "|numVotes                    |string                                                        |null   |\n",
            "|                            |                                                              |       |\n",
            "|# Detailed Table Information|                                                              |       |\n",
            "|Catalog                     |spark_catalog                                                 |       |\n",
            "|Database                    |default                                                       |       |\n",
            "|Table                       |title_ratings                                                 |       |\n",
            "|Owner                       |root                                                          |       |\n",
            "|Created Time                |Wed May 24 08:41:07 UTC 2023                                  |       |\n",
            "|Last Access                 |UNKNOWN                                                       |       |\n",
            "|Created By                  |Spark 3.4.0                                                   |       |\n",
            "|Type                        |MANAGED                                                       |       |\n",
            "|Provider                    |hive                                                          |       |\n",
            "|Table Properties            |[transient_lastDdlTime=1684917667]                            |       |\n",
            "|Location                    |file:/content/spark-warehouse/title_ratings                   |       |\n",
            "|Serde Library               |org.apache.hadoop.hive.ql.io.parquet.serde.ParquetHiveSerDe   |       |\n",
            "|InputFormat                 |org.apache.hadoop.hive.ql.io.parquet.MapredParquetInputFormat |       |\n",
            "|OutputFormat                |org.apache.hadoop.hive.ql.io.parquet.MapredParquetOutputFormat|       |\n",
            "|Storage Properties          |[serialization.format=1]                                      |       |\n",
            "|Partition Provider          |Catalog                                                       |       |\n",
            "+----------------------------+--------------------------------------------------------------+-------+\n",
            "\n",
            "+----------------------------+--------------------------------------------------------------+-------+\n",
            "|col_name                    |data_type                                                     |comment|\n",
            "+----------------------------+--------------------------------------------------------------+-------+\n",
            "|titleId                     |string                                                        |null   |\n",
            "|ordering                    |string                                                        |null   |\n",
            "|title                       |string                                                        |null   |\n",
            "|region                      |string                                                        |null   |\n",
            "|language                    |string                                                        |null   |\n",
            "|types                       |string                                                        |null   |\n",
            "|attributes                  |string                                                        |null   |\n",
            "|isOriginalTitle             |string                                                        |null   |\n",
            "|                            |                                                              |       |\n",
            "|# Detailed Table Information|                                                              |       |\n",
            "|Catalog                     |spark_catalog                                                 |       |\n",
            "|Database                    |default                                                       |       |\n",
            "|Table                       |title_akas                                                    |       |\n",
            "|Owner                       |root                                                          |       |\n",
            "|Created Time                |Wed May 24 08:41:10 UTC 2023                                  |       |\n",
            "|Last Access                 |UNKNOWN                                                       |       |\n",
            "|Created By                  |Spark 3.4.0                                                   |       |\n",
            "|Type                        |MANAGED                                                       |       |\n",
            "|Provider                    |hive                                                          |       |\n",
            "|Table Properties            |[transient_lastDdlTime=1684917670]                            |       |\n",
            "|Location                    |file:/content/spark-warehouse/title_akas                      |       |\n",
            "|Serde Library               |org.apache.hadoop.hive.ql.io.parquet.serde.ParquetHiveSerDe   |       |\n",
            "|InputFormat                 |org.apache.hadoop.hive.ql.io.parquet.MapredParquetInputFormat |       |\n",
            "|OutputFormat                |org.apache.hadoop.hive.ql.io.parquet.MapredParquetOutputFormat|       |\n",
            "|Storage Properties          |[serialization.format=1]                                      |       |\n",
            "|Partition Provider          |Catalog                                                       |       |\n",
            "+----------------------------+--------------------------------------------------------------+-------+\n",
            "\n",
            "+----------------------------+--------------------------------------------------------------+-------+\n",
            "|col_name                    |data_type                                                     |comment|\n",
            "+----------------------------+--------------------------------------------------------------+-------+\n",
            "|nconst                      |string                                                        |null   |\n",
            "|primaryName                 |string                                                        |null   |\n",
            "|birthYear                   |string                                                        |null   |\n",
            "|deathYear                   |string                                                        |null   |\n",
            "|primaryProfession           |string                                                        |null   |\n",
            "|knownForTitles              |string                                                        |null   |\n",
            "|                            |                                                              |       |\n",
            "|# Detailed Table Information|                                                              |       |\n",
            "|Catalog                     |spark_catalog                                                 |       |\n",
            "|Database                    |default                                                       |       |\n",
            "|Table                       |name_basics                                                   |       |\n",
            "|Owner                       |root                                                          |       |\n",
            "|Created Time                |Wed May 24 08:42:27 UTC 2023                                  |       |\n",
            "|Last Access                 |UNKNOWN                                                       |       |\n",
            "|Created By                  |Spark 3.4.0                                                   |       |\n",
            "|Type                        |MANAGED                                                       |       |\n",
            "|Provider                    |hive                                                          |       |\n",
            "|Table Properties            |[transient_lastDdlTime=1684917747]                            |       |\n",
            "|Location                    |file:/content/spark-warehouse/name_basics                     |       |\n",
            "|Serde Library               |org.apache.hadoop.hive.ql.io.parquet.serde.ParquetHiveSerDe   |       |\n",
            "|InputFormat                 |org.apache.hadoop.hive.ql.io.parquet.MapredParquetInputFormat |       |\n",
            "|OutputFormat                |org.apache.hadoop.hive.ql.io.parquet.MapredParquetOutputFormat|       |\n",
            "|Storage Properties          |[serialization.format=1]                                      |       |\n",
            "|Partition Provider          |Catalog                                                       |       |\n",
            "+----------------------------+--------------------------------------------------------------+-------+\n",
            "\n"
          ]
        }
      ]
    },
    {
      "cell_type": "markdown",
      "source": [
        "Вопрос №0 (не оценивается, показан, как пример). Сколько произведений имеют средний рейтинг выше заданного {threshold}?"
      ],
      "metadata": {
        "id": "YHfHxnjJ2a_e"
      }
    },
    {
      "cell_type": "code",
      "source": [
        "query_0 = \"\"\"\n",
        "/*\n",
        "  Чтобы посчитать количество произведений находим все рейтинги больше, чем заданный порог.\n",
        "  Так как надо найти все произведения, а не только фильмы, нам не нужно делать фильтр по типу произведения titleType\n",
        "*/\n",
        "SELECT \n",
        "  COUNT(tconst) as cnt_above_threshold\n",
        "FROM  title_ratings\n",
        "WHERE averageRating > {threshold};\n",
        "\"\"\"\n",
        "sql(query_0, threshold=5.0).show(truncate=False)"
      ],
      "metadata": {
        "colab": {
          "base_uri": "https://localhost:8080/"
        },
        "id": "pr2IF_C70sp3",
        "outputId": "2995959b-f2b1-453d-88a6-ddb94b76cfee"
      },
      "execution_count": null,
      "outputs": [
        {
          "output_type": "stream",
          "name": "stdout",
          "text": [
            "+-------------------+\n",
            "|cnt_above_threshold|\n",
            "+-------------------+\n",
            "|1029097            |\n",
            "+-------------------+\n",
            "\n"
          ]
        }
      ]
    },
    {
      "cell_type": "markdown",
      "source": [
        "Вопрос №1. Найдите среднюю продолжительность (title_basics:runtimeMinutes) фильмов (title_basics:titleType=movie) определенного жанра {genre}. \n",
        "\n",
        "Среднюю продолжительность надо рассчитать только для тех фильмов, где title_basics:runtimeMinutes не равен NULL. "
      ],
      "metadata": {
        "id": "I0Xdfa0T6ZUT"
      }
    },
    {
      "cell_type": "code",
      "source": [
        "query_1 = \"\"\"\n",
        "SELECT /*задаем набор данных из таблицы */\n",
        "  AVG(runtimeMinutes) as answer /* берем среднее от продолжительности фильма в минутах */\n",
        "FROM title_basics /*  из таблицы title_basics */\n",
        "WHERE (titleType = 'movie' AND genres ILIKE {genre}); /*для условия что произведение - фильм и жанр произведения равен заданному жанру (комедия), используем ILIKE, чтобы не зависеть от задания параметра genre*/\n",
        "\"\"\"\n",
        "sql(query_1, genre='%comedY%').show(truncate=False)"
      ],
      "metadata": {
        "colab": {
          "base_uri": "https://localhost:8080/"
        },
        "id": "nJJ_XspE6kP6",
        "outputId": "755426aa-3b1a-4b29-b6ca-03fae0332bfe"
      },
      "execution_count": 87,
      "outputs": [
        {
          "output_type": "stream",
          "name": "stdout",
          "text": [
            "+----------------+\n",
            "|answer          |\n",
            "+----------------+\n",
            "|92.5809266708541|\n",
            "+----------------+\n",
            "\n"
          ]
        }
      ]
    },
    {
      "cell_type": "markdown",
      "source": [
        "Вопрос №2. Сколько фильмов (title_basics:titleType=movie) определенного жанра (title_basics:genres) {genre} было выпущено в определенный год (title_basics:startYear) {year}?\n"
      ],
      "metadata": {
        "id": "HX4TaRQS4Mjb"
      }
    },
    {
      "cell_type": "code",
      "source": [
        "query_2 = \"\"\"\n",
        "SELECT /*задаем набор данных из таблицы */\n",
        "  COUNT(*) as answer /*количество строк*/\n",
        "FROM title_basics /* из таблицы title_basics */\n",
        "WHERE (titleType = 'movie' AND  genres ILIKE {genre} AND startYear = {year});  /*для условия что произведение - фильм, жанр произведения равен заданному жанру (комедия) и год выпуска равен заданному (year)*/\n",
        "\"\"\"\n",
        "sql(query_2, genre='%Comedy%', year=2022).show(truncate=False)"
      ],
      "metadata": {
        "colab": {
          "base_uri": "https://localhost:8080/"
        },
        "id": "pOMaygnv4Wce",
        "outputId": "ba1b19cf-75fd-4d43-feca-e87a225dd146"
      },
      "execution_count": 88,
      "outputs": [
        {
          "output_type": "stream",
          "name": "stdout",
          "text": [
            "+------+\n",
            "|answer|\n",
            "+------+\n",
            "|203   |\n",
            "+------+\n",
            "\n"
          ]
        }
      ]
    },
    {
      "cell_type": "markdown",
      "source": [
        "Вопрос №3. Сколько фильмов определенного жанра (title_basics:genres) {genre}, в которых снялся конкретный актер (name_basics:primaryName) {actor}, имеют средний рейтинг (title_ratings:averageRating) выше заданного порога {threshold}?\n",
        "\n",
        "\n",
        "\n",
        "\n",
        "\n"
      ],
      "metadata": {
        "id": "BnAxHdo84q8n"
      }
    },
    {
      "cell_type": "code",
      "source": [
        "query_3 = \"\"\"\n",
        "SELECT /*задаем набор данных из таблицы */\n",
        "  COUNT(*) as answer  /*количество строк*/\n",
        "FROM title_basics /* из таблицы title_basics */\n",
        "JOIN title_ratings ON title_basics.tconst = title_ratings.tconst /* пересеченной с таблицей title_ratings по ключу tconst для получения рейтинга фильма */\n",
        "JOIN title_principals ON title_basics.tconst = title_principals.tconst /* пересеченной с таблицей title_principals по ключу tconst для получения category и связки с таблицей с именами */\n",
        "JOIN name_basics ON title_principals.nconst = name_basics.nconst /* пересеченной с таблицей name_basics по ключу nconst(ключи имен) для получения для сравнения с именем актера */\n",
        "WHERE (title_basics.titleType = 'movie' AND title_ratings.averageRating > {threshold} AND title_basics.genres ILIKE {genre} AND name_basics.primaryName ILIKE {actor} AND title_principals.category = 'actor');\n",
        "/* для условия что произведение - фильм, рейтинг произведения больше заданного (threshold), жанр произведения равен заданному жанру (комедия), имя персоны совпадает с заданным (actor), и что персона является актером*/\n",
        "\"\"\"\n",
        "sql(query_3, genre='%Comedy%', actor='James Cagney', threshold=5.3).show(truncate=False)"
      ],
      "metadata": {
        "colab": {
          "base_uri": "https://localhost:8080/"
        },
        "id": "gBzpWjod5BsT",
        "outputId": "85e8a3c8-614b-4e3a-db3b-85d064a3fa0e"
      },
      "execution_count": 90,
      "outputs": [
        {
          "output_type": "stream",
          "name": "stdout",
          "text": [
            "+------+\n",
            "|answer|\n",
            "+------+\n",
            "|20    |\n",
            "+------+\n",
            "\n"
          ]
        }
      ]
    },
    {
      "cell_type": "markdown",
      "source": [
        "Вопрос №4. Сколько телесериалов (title_basics:titleType=tvSeries) в определенном жанре (title_basics:genres) {genre} имеют более определенного количества (title_episode:seasonNumber > {seasons})?\n"
      ],
      "metadata": {
        "id": "3pML6m5O42Hk"
      }
    },
    {
      "cell_type": "code",
      "source": [
        "query_4 = \"\"\"\n",
        "SELECT /*задаем набор данных из таблицы */\n",
        "  COUNT(DISTINCT(title_episode.parentTconst)) as answer /*количество уникальных по ключу произведения строк*/\n",
        "FROM title_basics /* из таблицы title_basics */\n",
        "JOIN title_episode ON title_basics.tconst = title_episode.parentTconst /* пересеченной с таблицей title_episode по ключу tconst в title_basics = parentTconst в title_episode (tconst в title_episode - ключ эпизода, а parent - сериала) для получения количества сезонов */\n",
        "WHERE (title_basics.titleType = 'tvSeries' AND title_basics.genres ILIKE {genre} AND title_episode.seasonNumber > {seasons});\n",
        " /* для условия что произведение - телесериал, жанр произведения равен заданному жанру (комедия) и количество сезонов больше заданного (seasons)*/\n",
        "\"\"\"\n",
        "sql(query_4, genre='%Comedy%', seasons=7).show(truncate=False)"
      ],
      "metadata": {
        "id": "egSPXazk6mlr",
        "colab": {
          "base_uri": "https://localhost:8080/"
        },
        "outputId": "a176e8b3-359a-48c6-88de-380f4c4a547b"
      },
      "execution_count": 91,
      "outputs": [
        {
          "output_type": "stream",
          "name": "stdout",
          "text": [
            "+------+\n",
            "|answer|\n",
            "+------+\n",
            "|995   |\n",
            "+------+\n",
            "\n"
          ]
        }
      ]
    },
    {
      "cell_type": "markdown",
      "source": [
        "Вопрос № 5. Сколько фильмов (title_basics:titleType=movie)  создал конкретный сценарист (title_crew:writers, name_basics:primaryName) {writer} в определенном жанре (title_basics:genres) {genre}?"
      ],
      "metadata": {
        "id": "c06R3Avo5jwH"
      }
    },
    {
      "cell_type": "code",
      "source": [
        "query_5  = \"\"\"\n",
        "SELECT /*задаем набор данных из таблицы */\n",
        "  COUNT(*) as answer /*количество строк*/\n",
        "FROM title_crew /* из таблицы title_crew */\n",
        "JOIN name_basics ON CONTAINS(title_crew.writers, name_basics.nconst) /* пересеченной с таблицей name_basics по содержанию персоны в списке сценаристов для получения сценаристов фильмов*/\n",
        "JOIN title_basics ON title_basics.tconst = title_crew.tconst /* пересеченной с таблицей title_basics по ключу tconst для получения жанров и типов произведения*/\n",
        "WHERE (title_basics.titleType = 'movie' AND  title_basics.genres ILIKE {genre} AND name_basics.primaryName ILIKE {writer});\n",
        " /* для условия что произведение - фильм, жанр произведения равен заданному жанру (комедия) и имя персоны (которую в первом JOINе мы уже определили как сценариста) совпадает с заданным (writer)*/\n",
        "\"\"\"\n",
        "sql(query_5, genre='%Comedy%', writer='James Cagney').show(truncate=False)"
      ],
      "metadata": {
        "id": "Cu172vb05yKB",
        "colab": {
          "base_uri": "https://localhost:8080/"
        },
        "outputId": "24781efa-cee9-4b34-9e35-a9464514df6a"
      },
      "execution_count": 96,
      "outputs": [
        {
          "output_type": "stream",
          "name": "stdout",
          "text": [
            "+------+\n",
            "|answer|\n",
            "+------+\n",
            "|0     |\n",
            "+------+\n",
            "\n"
          ]
        }
      ]
    },
    {
      "cell_type": "code",
      "source": [
        "/# PLEASE DO NOT REMOVE THIS CELL\n",
        "\n",
        "# Generate answers\n",
        "for n in range(1, 6):\n",
        "  print(f\"-- answer {n}\\n \" + globals()[f\"query_{n}\"] + \";\\n\")"
      ],
      "metadata": {
        "id": "gmIJNzuVBqG5",
        "colab": {
          "base_uri": "https://localhost:8080/"
        },
        "outputId": "d3510b14-231f-4c56-ecce-81b2cb1f8a58"
      },
      "execution_count": 85,
      "outputs": [
        {
          "output_type": "stream",
          "name": "stdout",
          "text": [
            "-- answer 1\n",
            " \n",
            "SELECT \n",
            "  AVG(runtimeMinutes) as answer\n",
            "FROM title_basics\n",
            "WHERE (titleType = 'movie' AND genres ILIKE {genre});\n",
            ";\n",
            "\n",
            "-- answer 2\n",
            " \n",
            "SELECT \n",
            "  COUNT(titleType = 'movie') as answer\n",
            "FROM title_basics\n",
            "WHERE (titleType = 'movie' AND  genres ILIKE {genre} AND startYear = {year});\n",
            ";\n",
            "\n",
            "-- answer 3\n",
            " \n",
            "SELECT COUNT(title_basics.tconst) as answer\n",
            "FROM title_basics\n",
            "JOIN title_ratings ON title_basics.tconst = title_ratings.tconst\n",
            "JOIN title_principals ON title_basics.tconst = title_principals.tconst\n",
            "JOIN name_basics ON title_principals.nconst = name_basics.nconst\n",
            "WHERE (title_basics.titleType = 'movie' AND title_ratings.averageRating > {threshold} AND title_basics.genres ILIKE {genre} AND name_basics.primaryName ILIKE {actor} AND title_principals.category = 'actor');\n",
            ";\n",
            "\n",
            "-- answer 4\n",
            " \n",
            "SELECT COUNT(DISTINCT(title_episode.parentTconst)) as answer\n",
            "FROM title_basics\n",
            "JOIN title_episode ON title_basics.tconst = title_episode.parentTconst\n",
            "WHERE (title_basics.titleType = 'tvSeries' AND title_basics.genres ILIKE {genre} AND title_episode.seasonNumber > {seasons});\n",
            ";\n",
            "\n",
            "-- answer 5\n",
            " \n",
            "SELECT \n",
            "  COUNT(*) as answer\n",
            "FROM title_crew\n",
            "JOIN name_basics ON CONTAINS(title_crew.writers, name_basics.nconst)\n",
            "JOIN title_basics ON title_basics.tconst = title_crew.tconst\n",
            "WHERE (title_basics.titleType = 'movie' AND  title_basics.genres ILIKE {genre} AND name_basics.primaryName ILIKE {writer});\n",
            ";\n",
            "\n"
          ]
        }
      ]
    },
    {
      "cell_type": "code",
      "source": [],
      "metadata": {
        "id": "19RZWs_mkHyY"
      },
      "execution_count": null,
      "outputs": []
    }
  ]
}