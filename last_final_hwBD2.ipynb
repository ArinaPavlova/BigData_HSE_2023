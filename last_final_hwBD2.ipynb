{
  "cells": [
    {
      "cell_type": "markdown",
      "metadata": {
        "id": "E_MME6OLVkVg"
      },
      "source": [
        "# install stuff"
      ]
    },
    {
      "cell_type": "code",
      "execution_count": 1,
      "metadata": {
        "id": "Y-UGV1JzVkVj",
        "colab": {
          "base_uri": "https://localhost:8080/"
        },
        "outputId": "6b44d1f6-4977-482d-c824-6d7c88d0cfb3"
      },
      "outputs": [
        {
          "output_type": "stream",
          "name": "stdout",
          "text": [
            "Looking in indexes: https://pypi.org/simple, https://us-python.pkg.dev/colab-wheels/public/simple/\n",
            "Requirement already satisfied: pyspark in /usr/local/lib/python3.10/dist-packages (3.4.0)\n",
            "Requirement already satisfied: pandas in /usr/local/lib/python3.10/dist-packages (1.5.3)\n",
            "Requirement already satisfied: scikit-learn in /usr/local/lib/python3.10/dist-packages (1.2.2)\n",
            "Requirement already satisfied: py4j==0.10.9.7 in /usr/local/lib/python3.10/dist-packages (from pyspark) (0.10.9.7)\n",
            "Requirement already satisfied: python-dateutil>=2.8.1 in /usr/local/lib/python3.10/dist-packages (from pandas) (2.8.2)\n",
            "Requirement already satisfied: pytz>=2020.1 in /usr/local/lib/python3.10/dist-packages (from pandas) (2022.7.1)\n",
            "Requirement already satisfied: numpy>=1.21.0 in /usr/local/lib/python3.10/dist-packages (from pandas) (1.22.4)\n",
            "Requirement already satisfied: scipy>=1.3.2 in /usr/local/lib/python3.10/dist-packages (from scikit-learn) (1.10.1)\n",
            "Requirement already satisfied: joblib>=1.1.1 in /usr/local/lib/python3.10/dist-packages (from scikit-learn) (1.2.0)\n",
            "Requirement already satisfied: threadpoolctl>=2.0.0 in /usr/local/lib/python3.10/dist-packages (from scikit-learn) (3.1.0)\n",
            "Requirement already satisfied: six>=1.5 in /usr/local/lib/python3.10/dist-packages (from python-dateutil>=2.8.1->pandas) (1.16.0)\n"
          ]
        }
      ],
      "source": [
        "! pip3 install pyspark pandas scikit-learn"
      ]
    },
    {
      "cell_type": "code",
      "source": [
        "from google.colab import drive\n",
        "drive.mount('/content/drive/')"
      ],
      "metadata": {
        "colab": {
          "base_uri": "https://localhost:8080/"
        },
        "id": "7p9zAciZITHA",
        "outputId": "684a4f04-afc3-4dfd-cc7d-a8a1a492ca10"
      },
      "execution_count": 2,
      "outputs": [
        {
          "output_type": "stream",
          "name": "stdout",
          "text": [
            "Drive already mounted at /content/drive/; to attempt to forcibly remount, call drive.mount(\"/content/drive/\", force_remount=True).\n"
          ]
        }
      ]
    },
    {
      "cell_type": "markdown",
      "metadata": {
        "id": "avgU5J4EVkVk"
      },
      "source": [
        "# setup pyspark"
      ]
    },
    {
      "cell_type": "code",
      "execution_count": 3,
      "metadata": {
        "id": "JocIj0qOVkVl"
      },
      "outputs": [],
      "source": [
        "import pyspark.sql\n",
        "from pyspark.sql import functions as sf\n",
        "import pyspark"
      ]
    },
    {
      "cell_type": "code",
      "source": [
        "import numpy as np\n",
        "import pandas as pd"
      ],
      "metadata": {
        "id": "5v6Y9dZ53IdT"
      },
      "execution_count": 4,
      "outputs": []
    },
    {
      "cell_type": "code",
      "execution_count": 5,
      "metadata": {
        "id": "1Cr0HP8qVkVl"
      },
      "outputs": [],
      "source": [
        "sparkConf = pyspark.SparkConf() \\\n",
        "    .set(\"spark.executor.memory\", \"512m\")\\\n",
        "    .set(\"spark.driver.memory\", \"512m\")\n",
        "ss = pyspark.sql.SparkSession.builder.config(conf=sparkConf).master('local[1]').getOrCreate()"
      ]
    },
    {
      "cell_type": "markdown",
      "metadata": {
        "id": "IKAHkaD8VkVm"
      },
      "source": [
        "# load data"
      ]
    },
    {
      "cell_type": "code",
      "execution_count": 38,
      "metadata": {
        "id": "le8WA0ocVkVm"
      },
      "outputs": [],
      "source": [
        "train_data = ss.read.orc('/content/drive/MyDrive/hw_data/posts_train.orc')\n",
        "test_data = ss.read.orc('/content/drive/MyDrive/hw_data/posts_test.orc')\n",
        "channel_data = ss.read.orc('/content/drive/MyDrive/hw_data/channels_orc')"
      ]
    },
    {
      "cell_type": "code",
      "source": [
        "#загрузка данных из шаблона\n",
        "# train_data = ss.read.orc('./hw_data/posts_train.orc')\n",
        "# test_data = ss.read.orc('./hw_data/posts_test.orc')\n",
        "# channel_data = ss.read.orc('./hw_data/channels_orc')"
      ],
      "metadata": {
        "id": "cDTqqZ_Y01yU"
      },
      "execution_count": 39,
      "outputs": []
    },
    {
      "cell_type": "markdown",
      "metadata": {
        "id": "nf7_YC5WVkVm"
      },
      "source": [
        "# make features"
      ]
    },
    {
      "cell_type": "code",
      "execution_count": 40,
      "metadata": {
        "id": "cb6DAz6gVkVn"
      },
      "outputs": [],
      "source": [
        "def make_features(df):\n",
        "    cols = ['id']\n",
        "    if 'views' in df.columns:\n",
        "        cols.append('views')\n",
        "    if 'channel_id' in df.columns:\n",
        "        cols.append('channel_id')\n",
        "    if 'has_image' in df.columns:\n",
        "        cols.append('has_image')\n",
        "    if 'is_forwarded' in df.columns:\n",
        "        cols.append('is_forwarded')\n",
        "    if 'date' in df.columns:\n",
        "        cols.append('date')\n",
        "    if 'text' in df.columns:\n",
        "        cols.append('text')\n",
        "    return df.select(*cols)"
      ]
    },
    {
      "cell_type": "code",
      "execution_count": 41,
      "metadata": {
        "id": "4yNFGW9iVkVn"
      },
      "outputs": [],
      "source": [
        "train_features = make_features(train_data).cache()\n",
        "test_features = make_features(test_data).cache()"
      ]
    },
    {
      "cell_type": "code",
      "source": [
        "channel_data.columns"
      ],
      "metadata": {
        "colab": {
          "base_uri": "https://localhost:8080/"
        },
        "id": "Acl7kw9dUvlo",
        "outputId": "f9d20382-e179-49b9-adba-b125c365dd98"
      },
      "execution_count": 42,
      "outputs": [
        {
          "output_type": "execute_result",
          "data": {
            "text/plain": [
              "['description',\n",
              " 'is_private',\n",
              " 'last_parsed',\n",
              " 'name',\n",
              " 'post_count',\n",
              " 'tg_id',\n",
              " 'title',\n",
              " 'updated',\n",
              " 'user_count',\n",
              " 'channel_id']"
            ]
          },
          "metadata": {},
          "execution_count": 42
        }
      ]
    },
    {
      "cell_type": "code",
      "source": [
        "#добавляем столбец длина поста\n",
        "import pyspark.sql.functions as F\n",
        "train_features = train_features.withColumn(\"post_len\", F.length(\"text\"))\n",
        "test_features = test_features.withColumn(\"post_len\", F.length(\"text\"))"
      ],
      "metadata": {
        "id": "VJs7RHZd-i7t"
      },
      "execution_count": 43,
      "outputs": []
    },
    {
      "cell_type": "markdown",
      "metadata": {
        "id": "grohRNwwVkVo"
      },
      "source": [
        "# feature engineering"
      ]
    },
    {
      "cell_type": "code",
      "source": [
        "channel_data = channel_data.drop('description', 'name', 'tg_id', 'title') #удаляем из df описание канала, имя и заголовок\n",
        "train_features = train_features.drop('text')#удаляем колонку с текстом\n",
        "test_features = test_features.drop('text')#удаляем колонку с текстом"
      ],
      "metadata": {
        "id": "iCWYC0aaCyBN"
      },
      "execution_count": 44,
      "outputs": []
    },
    {
      "cell_type": "code",
      "source": [
        "train_features = train_features.fillna(0)\n",
        "test_features = test_features.fillna(0)"
      ],
      "metadata": {
        "id": "-THEu89dAiYo"
      },
      "execution_count": 45,
      "outputs": []
    },
    {
      "cell_type": "code",
      "source": [
        "from pyspark.sql import Row\n",
        "from pyspark.sql.functions import desc"
      ],
      "metadata": {
        "id": "e_OkUyCGFKqx"
      },
      "execution_count": 46,
      "outputs": []
    },
    {
      "cell_type": "code",
      "source": [
        "#совмещаем информацию о посте с информацией о канале в помощью left join\n",
        "traindf = train_features.join(channel_data, ['channel_id'], \"left\")\n",
        "testdf = test_features.join(channel_data, ['channel_id'],\"left\")"
      ],
      "metadata": {
        "id": "Vqr4HDTSEKGs"
      },
      "execution_count": 47,
      "outputs": []
    },
    {
      "cell_type": "code",
      "source": [
        "import datetime as dt"
      ],
      "metadata": {
        "id": "qEqlu_Tdi3bz"
      },
      "execution_count": 48,
      "outputs": []
    },
    {
      "cell_type": "code",
      "source": [
        "#меняем текстовые признаки на bool\n",
        "traindf = traindf.replace({'f': '0', 't': '1'}, subset =[\"has_image\",\"is_forwarded\"])\n",
        "testdf = testdf.replace({'f': '0', 't': '1'}, subset =[\"has_image\",\"is_forwarded\"])\n",
        "traindf = traindf.replace({'false': '0', 'true': '1'}, subset =[\"is_private\"])\n",
        "testdf = testdf.replace({'false': '0', 'true': '1'}, subset =[\"is_private\"])"
      ],
      "metadata": {
        "id": "wAyQ13FHH-mK"
      },
      "execution_count": 49,
      "outputs": []
    },
    {
      "cell_type": "code",
      "source": [
        "#удаляем лишний столбец последнего парсинга\n",
        "traindf = traindf.drop('last_parsed')\n",
        "testdf = testdf.drop('last_parsed')"
      ],
      "metadata": {
        "id": "EUH-Ihp5J1Pr"
      },
      "execution_count": 50,
      "outputs": []
    },
    {
      "cell_type": "code",
      "source": [
        "#приводим bool признаки в типу integer\n",
        "from pyspark.sql.types import IntegerType, DateType\n",
        "traindf = traindf.withColumn('has_image', traindf['has_image'].cast(IntegerType()))\n",
        "traindf = traindf.withColumn('is_forwarded', traindf['is_forwarded'].cast(IntegerType()))\n",
        "testdf = testdf.withColumn('has_image', testdf['has_image'].cast(IntegerType()))\n",
        "testdf = testdf.withColumn('is_forwarded', testdf['is_forwarded'].cast(IntegerType()))\n",
        "traindf = traindf.withColumn('is_private', traindf['is_private'].cast(IntegerType()))\n",
        "testdf = testdf.withColumn('is_private', testdf['is_private'].cast(IntegerType()))"
      ],
      "metadata": {
        "id": "a9I1saqtKXg7"
      },
      "execution_count": 51,
      "outputs": []
    },
    {
      "cell_type": "code",
      "source": [
        "#приводим timestamp к datetype\n",
        "traindf = traindf.withColumn('date', traindf['date'].cast(DateType()))\n",
        "testdf = testdf.withColumn('date', testdf['date'].cast(DateType()))\n",
        "traindf = traindf.withColumn('updated', traindf['updated'].cast(DateType()))\n",
        "testdf = testdf.withColumn('updated', testdf['updated'].cast(DateType()))"
      ],
      "metadata": {
        "id": "L2HPC52-Mcs5"
      },
      "execution_count": 52,
      "outputs": []
    },
    {
      "cell_type": "code",
      "source": [
        "#приводим datetype к toordinal\n",
        "import pyspark.sql.functions as F\n",
        "traindf = traindf.withColumn(\"date\", F.unix_timestamp(traindf['date']))\n",
        "testdf = testdf.withColumn(\"date\", F.unix_timestamp(testdf['date']))\n",
        "traindf = traindf.withColumn('updated', F.unix_timestamp(traindf['updated']))\n",
        "testdf = testdf.withColumn('updated', F.unix_timestamp(testdf['updated']))"
      ],
      "metadata": {
        "id": "5KQEHTalUYhU"
      },
      "execution_count": 53,
      "outputs": []
    },
    {
      "cell_type": "code",
      "source": [
        "from pyspark.sql.window import Window"
      ],
      "metadata": {
        "id": "hlQEhqGugkAF"
      },
      "execution_count": 54,
      "outputs": []
    },
    {
      "cell_type": "code",
      "source": [
        "from pyspark.sql.functions import log"
      ],
      "metadata": {
        "id": "F7DpkyrBUUAh"
      },
      "execution_count": 55,
      "outputs": []
    },
    {
      "cell_type": "markdown",
      "source": [
        "#vectorizing, fitting and prediction"
      ],
      "metadata": {
        "id": "YeHzZJWrHi6_"
      }
    },
    {
      "cell_type": "code",
      "source": [
        "#таргет приводим к виду, указанному в задании, так как у просмотров экспоненциальное распределение\n",
        "traindf = traindf.withColumn('views', log(traindf.views + 100))"
      ],
      "metadata": {
        "id": "Wc5q67t7T0Ix"
      },
      "execution_count": 56,
      "outputs": []
    },
    {
      "cell_type": "code",
      "source": [
        "from pyspark.ml.linalg import Vectors\n",
        "from pyspark.ml.feature import VectorAssembler"
      ],
      "metadata": {
        "id": "MKT-vLIY91Zw"
      },
      "execution_count": 57,
      "outputs": []
    },
    {
      "cell_type": "code",
      "source": [
        "traindf.columns"
      ],
      "metadata": {
        "colab": {
          "base_uri": "https://localhost:8080/"
        },
        "id": "4gQBV1IP_O1m",
        "outputId": "592a7f6e-42c1-4ce2-c542-b570f67fc2a4"
      },
      "execution_count": 58,
      "outputs": [
        {
          "output_type": "execute_result",
          "data": {
            "text/plain": [
              "['channel_id',\n",
              " 'id',\n",
              " 'views',\n",
              " 'has_image',\n",
              " 'is_forwarded',\n",
              " 'date',\n",
              " 'post_len',\n",
              " 'is_private',\n",
              " 'post_count',\n",
              " 'updated',\n",
              " 'user_count']"
            ]
          },
          "metadata": {},
          "execution_count": 58
        }
      ]
    },
    {
      "cell_type": "code",
      "source": [
        "#задаем столбцы для векторизации\n",
        "assembler = VectorAssembler(\n",
        "  inputCols=['has_image',\n",
        " 'is_forwarded',\n",
        " 'date',\n",
        " 'post_len',\n",
        " 'is_private',\n",
        " 'post_count',\n",
        " 'updated',\n",
        " 'user_count'],\n",
        "    outputCol=\"features\")"
      ],
      "metadata": {
        "id": "q3h9LysG9-tj"
      },
      "execution_count": 59,
      "outputs": []
    },
    {
      "cell_type": "markdown",
      "source": [
        "Трансформируем столбцы в векторный вид фичи + таргет"
      ],
      "metadata": {
        "id": "I0znvBoR2FKa"
      }
    },
    {
      "cell_type": "code",
      "source": [
        "output = assembler.transform(traindf)"
      ],
      "metadata": {
        "id": "-3LIFxwX_aTM"
      },
      "execution_count": 60,
      "outputs": []
    },
    {
      "cell_type": "code",
      "source": [
        "outputtest = assembler.transform(testdf)"
      ],
      "metadata": {
        "id": "pwO7Z1PFU45e"
      },
      "execution_count": 61,
      "outputs": []
    },
    {
      "cell_type": "code",
      "source": [
        "output.select(\"features\", \"views\").show()"
      ],
      "metadata": {
        "colab": {
          "base_uri": "https://localhost:8080/"
        },
        "id": "_v3A7ETKUoWE",
        "outputId": "eed70ff0-9ebd-4faa-df00-bcc0d14b75b8"
      },
      "execution_count": 62,
      "outputs": [
        {
          "output_type": "stream",
          "name": "stdout",
          "text": [
            "+--------------------+------------------+\n",
            "|            features|             views|\n",
            "+--------------------+------------------+\n",
            "|[0.0,0.0,1.541203...| 9.646528652727188|\n",
            "|[0.0,0.0,1.543190...|  9.43731656931057|\n",
            "|[0.0,0.0,1.526428...|11.157449801606978|\n",
            "|[0.0,0.0,1.541116...| 9.243871855184976|\n",
            "|[0.0,0.0,1.502323...|10.756774584831282|\n",
            "|[0.0,0.0,1.540857...| 4.605170185988092|\n",
            "|[0.0,0.0,1.540339...| 8.671115273688494|\n",
            "|[0.0,0.0,1.543190...|10.516373251493265|\n",
            "|[1.0,0.0,1.539907...| 8.781401907682376|\n",
            "|[0.0,0.0,1.544054...| 8.962007209588313|\n",
            "|[0.0,0.0,1.53792E...| 9.619199713152362|\n",
            "|[0.0,1.0,1.544054...| 9.104535313079205|\n",
            "|[0.0,0.0,1.528502...| 8.987946539552519|\n",
            "|[0.0,0.0,1.544054...| 8.723394022000136|\n",
            "|[0.0,0.0,1.52496E...| 9.167432870964905|\n",
            "|[0.0,0.0,1.544054...| 8.753371421000903|\n",
            "|[0.0,0.0,1.524182...| 9.217514575724183|\n",
            "|[0.0,0.0,1.544054...| 7.689828668736484|\n",
            "|[0.0,0.0,1.522368...|  9.70509758756311|\n",
            "|[1.0,0.0,1.544054...| 7.675081857716334|\n",
            "+--------------------+------------------+\n",
            "only showing top 20 rows\n",
            "\n"
          ]
        }
      ]
    },
    {
      "cell_type": "code",
      "source": [
        "train_data = output.select(\"features\", \"views\")\n",
        "test_data = outputtest.select(\"features\")"
      ],
      "metadata": {
        "id": "pGbj737pU28Q"
      },
      "execution_count": 63,
      "outputs": []
    },
    {
      "cell_type": "code",
      "source": [
        "train_data.show()"
      ],
      "metadata": {
        "colab": {
          "base_uri": "https://localhost:8080/"
        },
        "id": "GeE6f4gSV_Ob",
        "outputId": "7cc1094a-ab0b-4fe3-dded-18419b84163c"
      },
      "execution_count": 64,
      "outputs": [
        {
          "output_type": "stream",
          "name": "stdout",
          "text": [
            "+--------------------+------------------+\n",
            "|            features|             views|\n",
            "+--------------------+------------------+\n",
            "|[0.0,0.0,1.541203...| 9.646528652727188|\n",
            "|[0.0,0.0,1.543190...|  9.43731656931057|\n",
            "|[0.0,0.0,1.526428...|11.157449801606978|\n",
            "|[0.0,0.0,1.541116...| 9.243871855184976|\n",
            "|[0.0,0.0,1.502323...|10.756774584831282|\n",
            "|[0.0,0.0,1.540857...| 4.605170185988092|\n",
            "|[0.0,0.0,1.540339...| 8.671115273688494|\n",
            "|[0.0,0.0,1.543190...|10.516373251493265|\n",
            "|[1.0,0.0,1.539907...| 8.781401907682376|\n",
            "|[0.0,0.0,1.544054...| 8.962007209588313|\n",
            "|[0.0,0.0,1.53792E...| 9.619199713152362|\n",
            "|[0.0,1.0,1.544054...| 9.104535313079205|\n",
            "|[0.0,0.0,1.528502...| 8.987946539552519|\n",
            "|[0.0,0.0,1.544054...| 8.723394022000136|\n",
            "|[0.0,0.0,1.52496E...| 9.167432870964905|\n",
            "|[0.0,0.0,1.544054...| 8.753371421000903|\n",
            "|[0.0,0.0,1.524182...| 9.217514575724183|\n",
            "|[0.0,0.0,1.544054...| 7.689828668736484|\n",
            "|[0.0,0.0,1.522368...|  9.70509758756311|\n",
            "|[1.0,0.0,1.544054...| 7.675081857716334|\n",
            "+--------------------+------------------+\n",
            "only showing top 20 rows\n",
            "\n"
          ]
        }
      ]
    },
    {
      "cell_type": "code",
      "source": [
        "from pyspark.ml.regression import LinearRegression\n",
        "# создаем объект линейной регрессии\n",
        "lr = LinearRegression(labelCol='views')"
      ],
      "metadata": {
        "id": "ZLhEcJdqVP-F"
      },
      "execution_count": 65,
      "outputs": []
    },
    {
      "cell_type": "code",
      "source": [
        "# обучаем модель на тренировочных данных\n",
        "lrModel = lr.fit(train_data)"
      ],
      "metadata": {
        "id": "ATikr4NzVeAa"
      },
      "execution_count": 66,
      "outputs": []
    },
    {
      "cell_type": "code",
      "source": [
        "#получаем df с предсказаниями\n",
        "lr_predictions = lrModel.transform(test_data)"
      ],
      "metadata": {
        "id": "wW6w6VoLXv_m"
      },
      "execution_count": 67,
      "outputs": []
    },
    {
      "cell_type": "code",
      "source": [
        "row_list = lr_predictions.select('prediction').collect()"
      ],
      "metadata": {
        "id": "c1dWUJhpwML7"
      },
      "execution_count": 68,
      "outputs": []
    },
    {
      "cell_type": "code",
      "source": [
        "id_array = [row.prediction for row in row_list]"
      ],
      "metadata": {
        "id": "5GCFIsICPaKt"
      },
      "execution_count": 69,
      "outputs": []
    },
    {
      "cell_type": "markdown",
      "source": [
        "Преобразовываем предсказания к виду массива"
      ],
      "metadata": {
        "id": "B9dc3anh2gUK"
      }
    },
    {
      "cell_type": "code",
      "source": [
        "prediction = np.array(id_array)"
      ],
      "metadata": {
        "id": "6MCeMNpmPpje"
      },
      "execution_count": 70,
      "outputs": []
    },
    {
      "cell_type": "code",
      "source": [
        "#преобразуем df в pandas для сабмита\n",
        "testX = testdf.toPandas()\n",
        "testX = testX.set_index('id')"
      ],
      "metadata": {
        "id": "WxFaTIQSRV9x"
      },
      "execution_count": 71,
      "outputs": []
    },
    {
      "cell_type": "markdown",
      "metadata": {
        "id": "HvJDSJKzVkVp"
      },
      "source": [
        "# submit"
      ]
    },
    {
      "cell_type": "code",
      "execution_count": null,
      "metadata": {
        "id": "whOpRevjVkVp",
        "colab": {
          "base_uri": "https://localhost:8080/"
        },
        "outputId": "a9aa6b76-e4f0-485b-dff4-f6cfd34bde6c"
      },
      "outputs": [
        {
          "output_type": "stream",
          "name": "stdout",
          "text": [
            "  % Total    % Received % Xferd  Average Speed   Time    Time     Time  Current\n",
            "                                 Dload  Upload   Total   Spent    Left  Speed\n",
            "\r  0     0    0     0    0     0      0      0 --:--:-- --:--:-- --:--:--     0\r100  1907  100  1907    0     0  10308      0 --:--:-- --:--:-- --:--:-- 10252\r100  1907  100  1907    0     0  10308      0 --:--:-- --:--:-- --:--:-- 10252\n"
          ]
        }
      ],
      "source": [
        "! curl -H 'Cache-Control: no-cache' https://raw.githubusercontent.com/mike0sv/lsml_submit_server/2023/src/client.py -o client.py"
      ]
    },
    {
      "cell_type": "code",
      "execution_count": null,
      "metadata": {
        "id": "hiq8EDA6VkVp"
      },
      "outputs": [],
      "source": [
        "import client"
      ]
    },
    {
      "cell_type": "markdown",
      "source": [
        "user39\n",
        "18661894"
      ],
      "metadata": {
        "id": "cvAXXk9QebTD"
      }
    },
    {
      "cell_type": "code",
      "execution_count": null,
      "metadata": {
        "id": "vzHmPSACVkVp",
        "colab": {
          "base_uri": "https://localhost:8080/"
        },
        "outputId": "5b79cc12-3f57-4530-84dd-f2f62312ed08"
      },
      "outputs": [
        {
          "output_type": "execute_result",
          "data": {
            "text/plain": [
              "{'data': {'mape': 13.349016863556527,\n",
              "  'mean_absolute_error': 0.9534329712756189,\n",
              "  'mean_squared_error': 1.8926469781501714,\n",
              "  'rmse': 1.3757350682999148,\n",
              "  'rmspe': 23.380359576731895},\n",
              " 'ok': True}"
            ]
          },
          "metadata": {},
          "execution_count": 44
        }
      ],
      "source": [
        "client.make_eval(pd.DataFrame({'views': prediction}, index=testX.index), final=True)"
      ]
    },
    {
      "cell_type": "code",
      "execution_count": null,
      "metadata": {
        "id": "_uDhA_96VkVq",
        "colab": {
          "base_uri": "https://localhost:8080/"
        },
        "outputId": "8e4d30b5-28c2-4a07-8b33-5d0d19931882"
      },
      "outputs": [
        {
          "output_type": "execute_result",
          "data": {
            "text/plain": [
              "{'2022-06-22': [{'baseline_beaten': True,\n",
              "   'is_final': False,\n",
              "   'metrics': {'mape': 8.881464534228046,\n",
              "    'mean_absolute_error': 0.7089464917938992,\n",
              "    'mean_squared_error': 1.0720933724507733,\n",
              "    'rmse': 1.035419418617776,\n",
              "    'rmspe': 14.643067936852601}},\n",
              "  {'baseline_beaten': True,\n",
              "   'is_final': True,\n",
              "   'metrics': {'mape': 8.899982652212794,\n",
              "    'mean_absolute_error': 0.710523614059252,\n",
              "    'mean_squared_error': 1.0798580448380761,\n",
              "    'rmse': 1.0391621840877756,\n",
              "    'rmspe': 14.707010297307093}}],\n",
              " '2023-06-13': [{'baseline_beaten': False,\n",
              "   'is_final': False,\n",
              "   'metrics': {'mape': 93.9294967848517,\n",
              "    'mean_absolute_error': 8.075612894075983,\n",
              "    'mean_squared_error': 67.65591656079468,\n",
              "    'rmse': 8.225321669138216,\n",
              "    'rmspe': 94.0097933517592}},\n",
              "  {'baseline_beaten': False,\n",
              "   'is_final': False,\n",
              "   'metrics': {'mape': 15.696422344578455,\n",
              "    'mean_absolute_error': 1.2476065193789692,\n",
              "    'mean_squared_error': 2.5399464531397196,\n",
              "    'rmse': 1.5937209458182193,\n",
              "    'rmspe': 22.58476199908499}},\n",
              "  {'baseline_beaten': True,\n",
              "   'is_final': False,\n",
              "   'metrics': {'mape': 15.2411111791808,\n",
              "    'mean_absolute_error': 1.2157783628253471,\n",
              "    'mean_squared_error': 2.3564856476814606,\n",
              "    'rmse': 1.5350848991770654,\n",
              "    'rmspe': 21.252958219079144}},\n",
              "  {'baseline_beaten': True,\n",
              "   'is_final': True,\n",
              "   'metrics': {'mape': 15.2411111791808,\n",
              "    'mean_absolute_error': 1.2157783628253471,\n",
              "    'mean_squared_error': 2.3564856476814606,\n",
              "    'rmse': 1.5350848991770654,\n",
              "    'rmspe': 21.252958219079144}}],\n",
              " '2023-06-14': [{'baseline_beaten': False,\n",
              "   'is_final': True,\n",
              "   'metrics': {'mape': 237458.93739684543,\n",
              "    'mean_absolute_error': 20718.25187492661,\n",
              "    'mean_squared_error': 871598292.9782885,\n",
              "    'rmse': 29522.843578799933,\n",
              "    'rmspe': 340029.5353894784}},\n",
              "  {'baseline_beaten': True,\n",
              "   'is_final': True,\n",
              "   'metrics': {'mape': 13.349016863556527,\n",
              "    'mean_absolute_error': 0.9534329712756189,\n",
              "    'mean_squared_error': 1.8926469781501714,\n",
              "    'rmse': 1.3757350682999148,\n",
              "    'rmspe': 23.380359576731895}},\n",
              "  {'baseline_beaten': True,\n",
              "   'is_final': False,\n",
              "   'metrics': {'mape': 13.349016863556527,\n",
              "    'mean_absolute_error': 0.9534329712756189,\n",
              "    'mean_squared_error': 1.8926469781501714,\n",
              "    'rmse': 1.3757350682999148,\n",
              "    'rmspe': 23.380359576731895}},\n",
              "  {'baseline_beaten': True,\n",
              "   'is_final': False,\n",
              "   'metrics': {'mape': 13.349016863556527,\n",
              "    'mean_absolute_error': 0.9534329712756189,\n",
              "    'mean_squared_error': 1.8926469781501714,\n",
              "    'rmse': 1.3757350682999148,\n",
              "    'rmspe': 23.380359576731895}},\n",
              "  {'baseline_beaten': True,\n",
              "   'is_final': True,\n",
              "   'metrics': {'mape': 13.349016863556527,\n",
              "    'mean_absolute_error': 0.9534329712756189,\n",
              "    'mean_squared_error': 1.8926469781501714,\n",
              "    'rmse': 1.3757350682999148,\n",
              "    'rmspe': 23.380359576731895}}]}"
            ]
          },
          "metadata": {},
          "execution_count": 45
        }
      ],
      "source": [
        "client.check_results()"
      ]
    }
  ],
  "metadata": {
    "kernelspec": {
      "display_name": "Python 3",
      "language": "python",
      "name": "python3"
    },
    "language_info": {
      "codemirror_mode": {
        "name": "ipython",
        "version": 3
      },
      "file_extension": ".py",
      "mimetype": "text/x-python",
      "name": "python",
      "nbconvert_exporter": "python",
      "pygments_lexer": "ipython3",
      "version": "3.6.7"
    },
    "colab": {
      "provenance": []
    }
  },
  "nbformat": 4,
  "nbformat_minor": 0
}